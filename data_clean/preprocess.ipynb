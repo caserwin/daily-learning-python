{
 "cells": [
  {
   "cell_type": "markdown",
   "metadata": {},
   "source": [
    "# Demo\n",
    "IJCAI数据"
   ]
  },
  {
   "cell_type": "code",
   "execution_count": 1,
   "metadata": {
    "collapsed": true
   },
   "outputs": [],
   "source": [
    "# -*- coding: utf-8 -*-\n",
    "# @Time    : 2018/5/13 上午10:02\n",
    "# @Author  : yidxue\n",
    "import pandas as pd\n",
    "import numpy as np\n",
    "\n",
    "path = 'test.csv'\n",
    "df = pd.read_csv(path, sep=',')"
   ]
  },
  {
   "cell_type": "markdown",
   "metadata": {},
   "source": [
    "## 数据概览"
   ]
  },
  {
   "cell_type": "code",
   "execution_count": 7,
   "metadata": {},
   "outputs": [
    {
     "name": "stdout",
     "output_type": "stream",
     "text": [
      "<class 'pandas.core.frame.DataFrame'>\n",
      "RangeIndex: 200 entries, 0 to 199\n",
      "Data columns (total 13 columns):\n",
      "id           200 non-null int64\n",
      "MEI          200 non-null int64\n",
      "M_MEI        200 non-null int64\n",
      "MEETING#     200 non-null int64\n",
      "HOSTID       200 non-null int64\n",
      "Register     200 non-null int64\n",
      "Browser      200 non-null object\n",
      "OS           200 non-null object\n",
      "PLATFORM     200 non-null object\n",
      "JMT          200 non-null int64\n",
      "Latency      200 non-null float64\n",
      "LOSSRATES    200 non-null float64\n",
      "USERTYPE     200 non-null object\n",
      "dtypes: float64(2), int64(7), object(4)\n",
      "memory usage: 20.4+ KB\n"
     ]
    }
   ],
   "source": [
    "# 查看数据类型\n",
    "df.info()"
   ]
  },
  {
   "cell_type": "code",
   "execution_count": 4,
   "metadata": {},
   "outputs": [
    {
     "data": {
      "text/plain": [
       "array(['id', 'MEI', 'M_MEI', 'MEETING#', 'HOSTID', 'Register', 'Browser',\n",
       "       'OS', 'PLATFORM', 'JMT', 'Latency', 'LOSSRATES', 'USERTYPE'], dtype=object)"
      ]
     },
     "execution_count": 4,
     "metadata": {},
     "output_type": "execute_result"
    }
   ],
   "source": [
    "# 查看字段名\n",
    "df.columns.values"
   ]
  },
  {
   "cell_type": "code",
   "execution_count": 5,
   "metadata": {},
   "outputs": [
    {
     "data": {
      "text/plain": [
       "(200, 13)"
      ]
     },
     "execution_count": 5,
     "metadata": {},
     "output_type": "execute_result"
    }
   ],
   "source": [
    "# dataFrame 维度\n",
    "df.shape"
   ]
  },
  {
   "cell_type": "code",
   "execution_count": 6,
   "metadata": {},
   "outputs": [
    {
     "data": {
      "text/html": [
       "<div>\n",
       "<style>\n",
       "    .dataframe thead tr:only-child th {\n",
       "        text-align: right;\n",
       "    }\n",
       "\n",
       "    .dataframe thead th {\n",
       "        text-align: left;\n",
       "    }\n",
       "\n",
       "    .dataframe tbody tr th {\n",
       "        vertical-align: top;\n",
       "    }\n",
       "</style>\n",
       "<table border=\"1\" class=\"dataframe\">\n",
       "  <thead>\n",
       "    <tr style=\"text-align: right;\">\n",
       "      <th></th>\n",
       "      <th>id</th>\n",
       "      <th>MEI</th>\n",
       "      <th>M_MEI</th>\n",
       "      <th>MEETING#</th>\n",
       "      <th>HOSTID</th>\n",
       "      <th>Register</th>\n",
       "      <th>Browser</th>\n",
       "      <th>OS</th>\n",
       "      <th>PLATFORM</th>\n",
       "      <th>JMT</th>\n",
       "      <th>Latency</th>\n",
       "      <th>LOSSRATES</th>\n",
       "      <th>USERTYPE</th>\n",
       "    </tr>\n",
       "  </thead>\n",
       "  <tbody>\n",
       "    <tr>\n",
       "      <th>0</th>\n",
       "      <td>2078484712</td>\n",
       "      <td>1</td>\n",
       "      <td>4</td>\n",
       "      <td>383874616</td>\n",
       "      <td>492303242</td>\n",
       "      <td>1</td>\n",
       "      <td>Chrome 5</td>\n",
       "      <td>Windows 10</td>\n",
       "      <td>Windows</td>\n",
       "      <td>128</td>\n",
       "      <td>176.003906</td>\n",
       "      <td>0.027016</td>\n",
       "      <td>Update</td>\n",
       "    </tr>\n",
       "    <tr>\n",
       "      <th>1</th>\n",
       "      <td>2078484712</td>\n",
       "      <td>1</td>\n",
       "      <td>4</td>\n",
       "      <td>383874616</td>\n",
       "      <td>492303242</td>\n",
       "      <td>1</td>\n",
       "      <td>Chrome 5</td>\n",
       "      <td>Windows 10</td>\n",
       "      <td>Windows</td>\n",
       "      <td>128</td>\n",
       "      <td>176.003906</td>\n",
       "      <td>0.027016</td>\n",
       "      <td>Update</td>\n",
       "    </tr>\n",
       "    <tr>\n",
       "      <th>2</th>\n",
       "      <td>2078487312</td>\n",
       "      <td>1</td>\n",
       "      <td>1</td>\n",
       "      <td>342474550</td>\n",
       "      <td>480482353</td>\n",
       "      <td>1</td>\n",
       "      <td>Safari 1</td>\n",
       "      <td>MAC_Other</td>\n",
       "      <td>MAC</td>\n",
       "      <td>77</td>\n",
       "      <td>372.135498</td>\n",
       "      <td>0.064495</td>\n",
       "      <td>Update</td>\n",
       "    </tr>\n",
       "    <tr>\n",
       "      <th>3</th>\n",
       "      <td>2078487312</td>\n",
       "      <td>1</td>\n",
       "      <td>1</td>\n",
       "      <td>342474550</td>\n",
       "      <td>480482353</td>\n",
       "      <td>1</td>\n",
       "      <td>Safari 1</td>\n",
       "      <td>MAC_Other</td>\n",
       "      <td>MAC</td>\n",
       "      <td>77</td>\n",
       "      <td>372.135498</td>\n",
       "      <td>0.064495</td>\n",
       "      <td>Update</td>\n",
       "    </tr>\n",
       "    <tr>\n",
       "      <th>4</th>\n",
       "      <td>2078539322</td>\n",
       "      <td>1</td>\n",
       "      <td>3</td>\n",
       "      <td>549959467</td>\n",
       "      <td>491407682</td>\n",
       "      <td>1</td>\n",
       "      <td>Firefox_Other</td>\n",
       "      <td>Windows 7</td>\n",
       "      <td>Windows</td>\n",
       "      <td>125</td>\n",
       "      <td>300.000000</td>\n",
       "      <td>0.084403</td>\n",
       "      <td>Update</td>\n",
       "    </tr>\n",
       "  </tbody>\n",
       "</table>\n",
       "</div>"
      ],
      "text/plain": [
       "           id  MEI  M_MEI   MEETING#     HOSTID  Register        Browser  \\\n",
       "0  2078484712    1      4  383874616  492303242         1       Chrome 5   \n",
       "1  2078484712    1      4  383874616  492303242         1       Chrome 5   \n",
       "2  2078487312    1      1  342474550  480482353         1       Safari 1   \n",
       "3  2078487312    1      1  342474550  480482353         1       Safari 1   \n",
       "4  2078539322    1      3  549959467  491407682         1  Firefox_Other   \n",
       "\n",
       "           OS PLATFORM  JMT     Latency  LOSSRATES USERTYPE  \n",
       "0  Windows 10  Windows  128  176.003906   0.027016   Update  \n",
       "1  Windows 10  Windows  128  176.003906   0.027016   Update  \n",
       "2   MAC_Other      MAC   77  372.135498   0.064495   Update  \n",
       "3   MAC_Other      MAC   77  372.135498   0.064495   Update  \n",
       "4   Windows 7  Windows  125  300.000000   0.084403   Update  "
      ]
     },
     "execution_count": 6,
     "metadata": {},
     "output_type": "execute_result"
    }
   ],
   "source": [
    "# 查看前几条数据\n",
    "df.head()"
   ]
  },
  {
   "cell_type": "code",
   "execution_count": 9,
   "metadata": {},
   "outputs": [
    {
     "name": "stdout",
     "output_type": "stream",
     "text": [
      "                  id         MEI       M_MEI      MEETING#        HOSTID  \\\n",
      "count   2.000000e+02  200.000000  200.000000  2.000000e+02  2.000000e+02   \n",
      "unique           NaN         NaN         NaN           NaN           NaN   \n",
      "top              NaN         NaN         NaN           NaN           NaN   \n",
      "freq             NaN         NaN         NaN           NaN           NaN   \n",
      "mean    1.882620e+09    1.160000    3.000000  3.102717e+08  4.894733e+08   \n",
      "std     5.366528e+08    0.367526    1.151796  8.973952e+07  4.306966e+06   \n",
      "min     1.742439e+08    1.000000    1.000000  1.503030e+08  4.804823e+08   \n",
      "25%     2.078484e+09    1.000000    2.000000  3.412649e+08  4.846669e+08   \n",
      "50%     2.079534e+09    1.000000    3.000000  3.437353e+08  4.914088e+08   \n",
      "75%     2.080533e+09    1.000000    4.000000  3.464139e+08  4.921356e+08   \n",
      "max     2.081550e+09    2.000000    5.000000  5.499595e+08  4.962589e+08   \n",
      "\n",
      "          Register   Browser         OS PLATFORM         JMT      Latency  \\\n",
      "count   200.000000       200        200      200  200.000000   200.000000   \n",
      "unique         NaN         8          7        3         NaN          NaN   \n",
      "top            NaN  Chrome 5  MAC_Other      MAC         NaN          NaN   \n",
      "freq           NaN        82        106      116         NaN          NaN   \n",
      "mean      0.900000       NaN        NaN      NaN  103.690000   384.685788   \n",
      "std       0.300753       NaN        NaN      NaN   49.786821   397.774430   \n",
      "min       0.000000       NaN        NaN      NaN   23.000000    50.111111   \n",
      "25%       1.000000       NaN        NaN      NaN   70.000000   198.893704   \n",
      "50%       1.000000       NaN        NaN      NaN   87.000000   300.000000   \n",
      "75%       1.000000       NaN        NaN      NaN  129.000000   438.918663   \n",
      "max       1.000000       NaN        NaN      NaN  322.000000  3652.391846   \n",
      "\n",
      "         LOSSRATES USERTYPE  \n",
      "count   200.000000      200  \n",
      "unique         NaN        3  \n",
      "top            NaN   Update  \n",
      "freq           NaN      118  \n",
      "mean      0.063992      NaN  \n",
      "std       0.069536      NaN  \n",
      "min       0.000000      NaN  \n",
      "25%       0.023715      NaN  \n",
      "50%       0.041086      NaN  \n",
      "75%       0.066958      NaN  \n",
      "max       0.368448      NaN  \n"
     ]
    }
   ],
   "source": [
    "# 数据概览\n",
    "print(df.describe(include='all'))"
   ]
  },
  {
   "cell_type": "code",
   "execution_count": 12,
   "metadata": {},
   "outputs": [
    {
     "data": {
      "text/plain": [
       "<matplotlib.axes._subplots.AxesSubplot at 0x110a425c0>"
      ]
     },
     "execution_count": 12,
     "metadata": {},
     "output_type": "execute_result"
    }
   ],
   "source": [
    "df['Browser'].hist()"
   ]
  },
  {
   "cell_type": "code",
   "execution_count": 15,
   "metadata": {},
   "outputs": [
    {
     "data": {
      "text/plain": [
       "id           0\n",
       "MEI          0\n",
       "M_MEI        0\n",
       "MEETING#     0\n",
       "HOSTID       0\n",
       "Register     0\n",
       "Browser      0\n",
       "OS           0\n",
       "PLATFORM     0\n",
       "JMT          0\n",
       "Latency      0\n",
       "LOSSRATES    0\n",
       "USERTYPE     0\n",
       "dtype: int64"
      ]
     },
     "execution_count": 15,
     "metadata": {},
     "output_type": "execute_result"
    }
   ],
   "source": [
    "df.isnull().sum()"
   ]
  },
  {
   "cell_type": "code",
   "execution_count": 16,
   "metadata": {},
   "outputs": [
    {
     "data": {
      "text/plain": [
       "0      0\n",
       "1      0\n",
       "2      0\n",
       "3      0\n",
       "4      0\n",
       "5      0\n",
       "6      0\n",
       "7      0\n",
       "8      0\n",
       "9      0\n",
       "10     0\n",
       "11     0\n",
       "12     0\n",
       "13     0\n",
       "14     0\n",
       "15     0\n",
       "16     0\n",
       "17     0\n",
       "18     0\n",
       "19     0\n",
       "20     0\n",
       "21     0\n",
       "22     0\n",
       "23     0\n",
       "24     0\n",
       "25     0\n",
       "26     0\n",
       "27     0\n",
       "28     0\n",
       "29     0\n",
       "      ..\n",
       "170    0\n",
       "171    0\n",
       "172    0\n",
       "173    0\n",
       "174    0\n",
       "175    0\n",
       "176    0\n",
       "177    0\n",
       "178    0\n",
       "179    0\n",
       "180    0\n",
       "181    0\n",
       "182    0\n",
       "183    0\n",
       "184    0\n",
       "185    0\n",
       "186    0\n",
       "187    0\n",
       "188    0\n",
       "189    0\n",
       "190    0\n",
       "191    0\n",
       "192    0\n",
       "193    0\n",
       "194    0\n",
       "195    0\n",
       "196    0\n",
       "197    0\n",
       "198    0\n",
       "199    0\n",
       "Length: 200, dtype: int64"
      ]
     },
     "execution_count": 16,
     "metadata": {},
     "output_type": "execute_result"
    }
   ],
   "source": [
    "df.isnull().sum(axis = 1)"
   ]
  },
  {
   "cell_type": "code",
   "execution_count": 17,
   "metadata": {},
   "outputs": [
    {
     "data": {
      "text/plain": [
       "Chrome 5         82\n",
       "Safari 1         46\n",
       "Firefox_Other    42\n",
       "IE 11.0          12\n",
       "Safari_Other      8\n",
       "Other             6\n",
       "Chrome 46         2\n",
       "IE 7.0            2\n",
       "Name: Browser, dtype: int64"
      ]
     },
     "execution_count": 17,
     "metadata": {},
     "output_type": "execute_result"
    }
   ],
   "source": [
    "df['Browser'].value_counts()"
   ]
  },
  {
   "cell_type": "code",
   "execution_count": 18,
   "metadata": {},
   "outputs": [
    {
     "data": {
      "text/plain": [
       "array(['Chrome 5', 'Safari 1', 'Firefox_Other', 'IE 11.0', 'Other',\n",
       "       'Safari_Other', 'Chrome 46', 'IE 7.0'], dtype=object)"
      ]
     },
     "execution_count": 18,
     "metadata": {},
     "output_type": "execute_result"
    }
   ],
   "source": [
    "df['Browser'].unique()"
   ]
  },
  {
   "cell_type": "code",
   "execution_count": null,
   "metadata": {
    "collapsed": true
   },
   "outputs": [],
   "source": []
  }
 ],
 "metadata": {
  "kernelspec": {
   "display_name": "Python 3",
   "language": "python",
   "name": "python3"
  },
  "language_info": {
   "codemirror_mode": {
    "name": "ipython",
    "version": 3
   },
   "file_extension": ".py",
   "mimetype": "text/x-python",
   "name": "python",
   "nbconvert_exporter": "python",
   "pygments_lexer": "ipython3",
   "version": "3.6.3"
  }
 },
 "nbformat": 4,
 "nbformat_minor": 2
}
