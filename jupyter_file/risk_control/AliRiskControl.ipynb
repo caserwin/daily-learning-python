{
 "cells": [
  {
   "cell_type": "markdown",
   "metadata": {},
   "source": [
    "# 读取数据\n",
    "今天要做的事情：<br>\n",
    "&emsp;&emsp;    1 先直接用LR,GBDT 出一版baseline结果。<br>\n",
    "&emsp;&emsp;    2 分别采用bagging, boosting, stacking 出结果<br>\n",
    "    \n",
    "下一步<br>\n",
    "&emsp;&emsp;    1 研究每个字段数值特征：是否需要归一化，中心化，标准化 <br>\n",
    "&emsp;&emsp;    2 尝试特征筛选<br>\n",
    "&emsp;&emsp;    3 特征工程PCA、LDA、SVD 降维<br>\n",
    "&emsp;&emsp;    4 尝试特征升维？？神经网络？？<br>\n",
    "&emsp;&emsp;    5 加入深度学习方法<br>\n",
    "&emsp;&emsp;    6 考虑时序怎么用、、<br>"
   ]
  },
  {
   "cell_type": "code",
   "execution_count": 1,
   "metadata": {},
   "outputs": [
    {
     "data": {
      "text/html": [
       "<div>\n",
       "<style>\n",
       "    .dataframe thead tr:only-child th {\n",
       "        text-align: right;\n",
       "    }\n",
       "\n",
       "    .dataframe thead th {\n",
       "        text-align: left;\n",
       "    }\n",
       "\n",
       "    .dataframe tbody tr th {\n",
       "        vertical-align: top;\n",
       "    }\n",
       "</style>\n",
       "<table border=\"1\" class=\"dataframe\">\n",
       "  <thead>\n",
       "    <tr style=\"text-align: right;\">\n",
       "      <th></th>\n",
       "      <th>V_Time</th>\n",
       "      <th>V1</th>\n",
       "      <th>V2</th>\n",
       "      <th>V3</th>\n",
       "      <th>V4</th>\n",
       "      <th>V5</th>\n",
       "      <th>V6</th>\n",
       "      <th>V7</th>\n",
       "      <th>V8</th>\n",
       "      <th>V9</th>\n",
       "      <th>...</th>\n",
       "      <th>V22</th>\n",
       "      <th>V23</th>\n",
       "      <th>V24</th>\n",
       "      <th>V25</th>\n",
       "      <th>V26</th>\n",
       "      <th>V27</th>\n",
       "      <th>V28</th>\n",
       "      <th>V29</th>\n",
       "      <th>V30</th>\n",
       "      <th>Label</th>\n",
       "    </tr>\n",
       "    <tr>\n",
       "      <th>ID</th>\n",
       "      <th></th>\n",
       "      <th></th>\n",
       "      <th></th>\n",
       "      <th></th>\n",
       "      <th></th>\n",
       "      <th></th>\n",
       "      <th></th>\n",
       "      <th></th>\n",
       "      <th></th>\n",
       "      <th></th>\n",
       "      <th></th>\n",
       "      <th></th>\n",
       "      <th></th>\n",
       "      <th></th>\n",
       "      <th></th>\n",
       "      <th></th>\n",
       "      <th></th>\n",
       "      <th></th>\n",
       "      <th></th>\n",
       "      <th></th>\n",
       "      <th></th>\n",
       "    </tr>\n",
       "  </thead>\n",
       "  <tbody>\n",
       "    <tr>\n",
       "      <th>254359</th>\n",
       "      <td>156699</td>\n",
       "      <td>-0.935008</td>\n",
       "      <td>0.820946</td>\n",
       "      <td>1.067777</td>\n",
       "      <td>0.288612</td>\n",
       "      <td>1.350836</td>\n",
       "      <td>-0.104075</td>\n",
       "      <td>1.021084</td>\n",
       "      <td>-0.009889</td>\n",
       "      <td>-1.356626</td>\n",
       "      <td>...</td>\n",
       "      <td>0.915678</td>\n",
       "      <td>-0.501440</td>\n",
       "      <td>0.754770</td>\n",
       "      <td>1.084112</td>\n",
       "      <td>-0.259672</td>\n",
       "      <td>0.026528</td>\n",
       "      <td>0.051355</td>\n",
       "      <td>0.042881</td>\n",
       "      <td>0.771583</td>\n",
       "      <td>0</td>\n",
       "    </tr>\n",
       "    <tr>\n",
       "      <th>244959</th>\n",
       "      <td>152554</td>\n",
       "      <td>2.039188</td>\n",
       "      <td>-0.264982</td>\n",
       "      <td>-1.235053</td>\n",
       "      <td>0.239175</td>\n",
       "      <td>-0.125661</td>\n",
       "      <td>-0.756202</td>\n",
       "      <td>-0.068806</td>\n",
       "      <td>-0.041701</td>\n",
       "      <td>0.659533</td>\n",
       "      <td>...</td>\n",
       "      <td>-0.830929</td>\n",
       "      <td>0.313942</td>\n",
       "      <td>-0.392227</td>\n",
       "      <td>-0.352006</td>\n",
       "      <td>0.209928</td>\n",
       "      <td>-0.079692</td>\n",
       "      <td>-0.055856</td>\n",
       "      <td>0.002934</td>\n",
       "      <td>-1.225918</td>\n",
       "      <td>0</td>\n",
       "    </tr>\n",
       "    <tr>\n",
       "      <th>79483</th>\n",
       "      <td>58048</td>\n",
       "      <td>-0.377984</td>\n",
       "      <td>0.917614</td>\n",
       "      <td>1.714673</td>\n",
       "      <td>0.583275</td>\n",
       "      <td>0.887798</td>\n",
       "      <td>0.045338</td>\n",
       "      <td>1.216416</td>\n",
       "      <td>-0.684746</td>\n",
       "      <td>0.012233</td>\n",
       "      <td>...</td>\n",
       "      <td>-0.123676</td>\n",
       "      <td>-0.076580</td>\n",
       "      <td>-0.305154</td>\n",
       "      <td>-0.614375</td>\n",
       "      <td>-0.675006</td>\n",
       "      <td>-0.320966</td>\n",
       "      <td>-0.407508</td>\n",
       "      <td>0.013761</td>\n",
       "      <td>-3.124638</td>\n",
       "      <td>0</td>\n",
       "    </tr>\n",
       "    <tr>\n",
       "      <th>164477</th>\n",
       "      <td>116748</td>\n",
       "      <td>1.985660</td>\n",
       "      <td>-0.752667</td>\n",
       "      <td>-1.669258</td>\n",
       "      <td>-0.634638</td>\n",
       "      <td>1.679647</td>\n",
       "      <td>3.937192</td>\n",
       "      <td>-1.309168</td>\n",
       "      <td>1.055526</td>\n",
       "      <td>1.108597</td>\n",
       "      <td>...</td>\n",
       "      <td>0.561408</td>\n",
       "      <td>0.196288</td>\n",
       "      <td>0.755987</td>\n",
       "      <td>-0.226402</td>\n",
       "      <td>0.589655</td>\n",
       "      <td>-0.016130</td>\n",
       "      <td>-0.049041</td>\n",
       "      <td>0.006732</td>\n",
       "      <td>-2.550306</td>\n",
       "      <td>0</td>\n",
       "    </tr>\n",
       "    <tr>\n",
       "      <th>184542</th>\n",
       "      <td>126292</td>\n",
       "      <td>1.930330</td>\n",
       "      <td>2.563490</td>\n",
       "      <td>-4.759537</td>\n",
       "      <td>4.675617</td>\n",
       "      <td>2.921796</td>\n",
       "      <td>-1.740102</td>\n",
       "      <td>1.323942</td>\n",
       "      <td>-0.361470</td>\n",
       "      <td>-2.267007</td>\n",
       "      <td>...</td>\n",
       "      <td>-0.698716</td>\n",
       "      <td>-0.192089</td>\n",
       "      <td>-1.056597</td>\n",
       "      <td>0.444520</td>\n",
       "      <td>0.144779</td>\n",
       "      <td>0.013315</td>\n",
       "      <td>0.109086</td>\n",
       "      <td>0.000068</td>\n",
       "      <td>0.139250</td>\n",
       "      <td>0</td>\n",
       "    </tr>\n",
       "  </tbody>\n",
       "</table>\n",
       "<p>5 rows × 32 columns</p>\n",
       "</div>"
      ],
      "text/plain": [
       "        V_Time        V1        V2        V3        V4        V5        V6  \\\n",
       "ID                                                                           \n",
       "254359  156699 -0.935008  0.820946  1.067777  0.288612  1.350836 -0.104075   \n",
       "244959  152554  2.039188 -0.264982 -1.235053  0.239175 -0.125661 -0.756202   \n",
       "79483    58048 -0.377984  0.917614  1.714673  0.583275  0.887798  0.045338   \n",
       "164477  116748  1.985660 -0.752667 -1.669258 -0.634638  1.679647  3.937192   \n",
       "184542  126292  1.930330  2.563490 -4.759537  4.675617  2.921796 -1.740102   \n",
       "\n",
       "              V7        V8        V9  ...         V22       V23       V24  \\\n",
       "ID                                    ...                                   \n",
       "254359  1.021084 -0.009889 -1.356626  ...    0.915678 -0.501440  0.754770   \n",
       "244959 -0.068806 -0.041701  0.659533  ...   -0.830929  0.313942 -0.392227   \n",
       "79483   1.216416 -0.684746  0.012233  ...   -0.123676 -0.076580 -0.305154   \n",
       "164477 -1.309168  1.055526  1.108597  ...    0.561408  0.196288  0.755987   \n",
       "184542  1.323942 -0.361470 -2.267007  ...   -0.698716 -0.192089 -1.056597   \n",
       "\n",
       "             V25       V26       V27       V28       V29       V30  Label  \n",
       "ID                                                                         \n",
       "254359  1.084112 -0.259672  0.026528  0.051355  0.042881  0.771583      0  \n",
       "244959 -0.352006  0.209928 -0.079692 -0.055856  0.002934 -1.225918      0  \n",
       "79483  -0.614375 -0.675006 -0.320966 -0.407508  0.013761 -3.124638      0  \n",
       "164477 -0.226402  0.589655 -0.016130 -0.049041  0.006732 -2.550306      0  \n",
       "184542  0.444520  0.144779  0.013315  0.109086  0.000068  0.139250      0  \n",
       "\n",
       "[5 rows x 32 columns]"
      ]
     },
     "execution_count": 1,
     "metadata": {},
     "output_type": "execute_result"
    }
   ],
   "source": [
    "import pandas as pd\n",
    "train_df = pd.read_csv('./train.csv', index_col='ID')\n",
    "train_df.head()"
   ]
  },
  {
   "cell_type": "code",
   "execution_count": 3,
   "metadata": {},
   "outputs": [
    {
     "name": "stdout",
     "output_type": "stream",
     "text": [
      "              V1        V2        V3        V4        V5        V6        V7  \\\n",
      "ID                                                                             \n",
      "254359 -0.935008  0.820946  1.067777  0.288612  1.350836 -0.104075  1.021084   \n",
      "244959  2.039188 -0.264982 -1.235053  0.239175 -0.125661 -0.756202 -0.068806   \n",
      "79483  -0.377984  0.917614  1.714673  0.583275  0.887798  0.045338  1.216416   \n",
      "164477  1.985660 -0.752667 -1.669258 -0.634638  1.679647  3.937192 -1.309168   \n",
      "184542  1.930330  2.563490 -4.759537  4.675617  2.921796 -1.740102  1.323942   \n",
      "\n",
      "              V8        V9       V10    ...          V21       V22       V23  \\\n",
      "ID                                      ...                                    \n",
      "254359 -0.009889 -1.356626 -0.384819    ...     0.365994  0.915678 -0.501440   \n",
      "244959 -0.041701  0.659533  0.309476    ...    -0.295161 -0.830929  0.313942   \n",
      "79483  -0.684746  0.012233  0.746790    ...    -0.255318 -0.123676 -0.076580   \n",
      "164477  1.055526  1.108597  0.032542    ...     0.153868  0.561408  0.196288   \n",
      "184542 -0.361470 -2.267007 -1.639050    ...    -0.271386 -0.698716 -0.192089   \n",
      "\n",
      "             V24       V25       V26       V27       V28       V29       V30  \n",
      "ID                                                                            \n",
      "254359  0.754770  1.084112 -0.259672  0.026528  0.051355  0.042881  0.771583  \n",
      "244959 -0.392227 -0.352006  0.209928 -0.079692 -0.055856  0.002934 -1.225918  \n",
      "79483  -0.305154 -0.614375 -0.675006 -0.320966 -0.407508  0.013761 -3.124638  \n",
      "164477  0.755987 -0.226402  0.589655 -0.016130 -0.049041  0.006732 -2.550306  \n",
      "184542 -1.056597  0.444520  0.144779  0.013315  0.109086  0.000068  0.139250  \n",
      "\n",
      "[5 rows x 30 columns]\n",
      "ID\n",
      "254359    0\n",
      "244959    0\n",
      "79483     0\n",
      "164477    0\n",
      "184542    0\n",
      "Name: Label, dtype: int64\n",
      "0    99700\n",
      "1      300\n",
      "Name: Label, dtype: int64\n"
     ]
    }
   ],
   "source": [
    "train_feature = train_df[['V1','V2','V3','V4','V5','V6','V7','V8','V9','V10','V11','V12','V13','V14','V15','V16','V17','V18','V19','V20','V21','V22','V23','V24','V25','V26','V27','V28','V29','V30']]\n",
    "train_label = train_df['Label']\n",
    "\n",
    "print train_feature.head()\n",
    "print train_label.head()\n",
    "print train_label.value_counts()"
   ]
  },
  {
   "cell_type": "code",
   "execution_count": 4,
   "metadata": {},
   "outputs": [
    {
     "data": {
      "text/html": [
       "<div>\n",
       "<style>\n",
       "    .dataframe thead tr:only-child th {\n",
       "        text-align: right;\n",
       "    }\n",
       "\n",
       "    .dataframe thead th {\n",
       "        text-align: left;\n",
       "    }\n",
       "\n",
       "    .dataframe tbody tr th {\n",
       "        vertical-align: top;\n",
       "    }\n",
       "</style>\n",
       "<table border=\"1\" class=\"dataframe\">\n",
       "  <thead>\n",
       "    <tr style=\"text-align: right;\">\n",
       "      <th></th>\n",
       "      <th>V1</th>\n",
       "      <th>V2</th>\n",
       "      <th>V3</th>\n",
       "      <th>V4</th>\n",
       "      <th>V5</th>\n",
       "      <th>V6</th>\n",
       "      <th>V7</th>\n",
       "      <th>V8</th>\n",
       "      <th>V9</th>\n",
       "      <th>V10</th>\n",
       "      <th>...</th>\n",
       "      <th>V21</th>\n",
       "      <th>V22</th>\n",
       "      <th>V23</th>\n",
       "      <th>V24</th>\n",
       "      <th>V25</th>\n",
       "      <th>V26</th>\n",
       "      <th>V27</th>\n",
       "      <th>V28</th>\n",
       "      <th>V29</th>\n",
       "      <th>V30</th>\n",
       "    </tr>\n",
       "    <tr>\n",
       "      <th>ID</th>\n",
       "      <th></th>\n",
       "      <th></th>\n",
       "      <th></th>\n",
       "      <th></th>\n",
       "      <th></th>\n",
       "      <th></th>\n",
       "      <th></th>\n",
       "      <th></th>\n",
       "      <th></th>\n",
       "      <th></th>\n",
       "      <th></th>\n",
       "      <th></th>\n",
       "      <th></th>\n",
       "      <th></th>\n",
       "      <th></th>\n",
       "      <th></th>\n",
       "      <th></th>\n",
       "      <th></th>\n",
       "      <th></th>\n",
       "      <th></th>\n",
       "      <th></th>\n",
       "    </tr>\n",
       "  </thead>\n",
       "  <tbody>\n",
       "    <tr>\n",
       "      <th>54043</th>\n",
       "      <td>-2.389003</td>\n",
       "      <td>0.508246</td>\n",
       "      <td>0.955227</td>\n",
       "      <td>0.355585</td>\n",
       "      <td>-1.346217</td>\n",
       "      <td>0.052071</td>\n",
       "      <td>-1.140844</td>\n",
       "      <td>1.563165</td>\n",
       "      <td>-0.141766</td>\n",
       "      <td>-1.020786</td>\n",
       "      <td>...</td>\n",
       "      <td>0.190740</td>\n",
       "      <td>0.019433</td>\n",
       "      <td>-0.096179</td>\n",
       "      <td>0.025572</td>\n",
       "      <td>-0.271135</td>\n",
       "      <td>0.249452</td>\n",
       "      <td>-0.487984</td>\n",
       "      <td>-0.221525</td>\n",
       "      <td>0.035281</td>\n",
       "      <td>-2.741180</td>\n",
       "    </tr>\n",
       "    <tr>\n",
       "      <th>100632</th>\n",
       "      <td>1.324636</td>\n",
       "      <td>0.095398</td>\n",
       "      <td>-0.105591</td>\n",
       "      <td>0.246712</td>\n",
       "      <td>0.320204</td>\n",
       "      <td>0.257465</td>\n",
       "      <td>-0.117373</td>\n",
       "      <td>0.073556</td>\n",
       "      <td>0.265089</td>\n",
       "      <td>-0.096078</td>\n",
       "      <td>...</td>\n",
       "      <td>-0.335731</td>\n",
       "      <td>-0.955960</td>\n",
       "      <td>-0.004008</td>\n",
       "      <td>-1.334493</td>\n",
       "      <td>0.290240</td>\n",
       "      <td>0.219790</td>\n",
       "      <td>-0.000750</td>\n",
       "      <td>-0.015829</td>\n",
       "      <td>0.002406</td>\n",
       "      <td>-7.049453</td>\n",
       "    </tr>\n",
       "    <tr>\n",
       "      <th>260528</th>\n",
       "      <td>-0.083895</td>\n",
       "      <td>0.543350</td>\n",
       "      <td>-0.244593</td>\n",
       "      <td>-0.750945</td>\n",
       "      <td>0.804470</td>\n",
       "      <td>-0.429098</td>\n",
       "      <td>1.249977</td>\n",
       "      <td>-0.179319</td>\n",
       "      <td>-0.058560</td>\n",
       "      <td>-0.495834</td>\n",
       "      <td>...</td>\n",
       "      <td>-0.264119</td>\n",
       "      <td>-0.738258</td>\n",
       "      <td>0.164438</td>\n",
       "      <td>-1.005575</td>\n",
       "      <td>-0.293204</td>\n",
       "      <td>0.179689</td>\n",
       "      <td>0.218246</td>\n",
       "      <td>0.086205</td>\n",
       "      <td>0.112603</td>\n",
       "      <td>-1.469655</td>\n",
       "    </tr>\n",
       "    <tr>\n",
       "      <th>244435</th>\n",
       "      <td>2.027800</td>\n",
       "      <td>-0.080261</td>\n",
       "      <td>-1.167567</td>\n",
       "      <td>0.210231</td>\n",
       "      <td>0.136417</td>\n",
       "      <td>-0.676231</td>\n",
       "      <td>0.137029</td>\n",
       "      <td>-0.212528</td>\n",
       "      <td>0.176972</td>\n",
       "      <td>0.185304</td>\n",
       "      <td>...</td>\n",
       "      <td>-0.255778</td>\n",
       "      <td>-0.572261</td>\n",
       "      <td>0.282490</td>\n",
       "      <td>-0.319414</td>\n",
       "      <td>-0.266087</td>\n",
       "      <td>0.195817</td>\n",
       "      <td>-0.061286</td>\n",
       "      <td>-0.068097</td>\n",
       "      <td>0.011066</td>\n",
       "      <td>-0.322347</td>\n",
       "    </tr>\n",
       "    <tr>\n",
       "      <th>25470</th>\n",
       "      <td>-0.621263</td>\n",
       "      <td>-0.400795</td>\n",
       "      <td>1.599899</td>\n",
       "      <td>-0.959784</td>\n",
       "      <td>0.457530</td>\n",
       "      <td>0.033135</td>\n",
       "      <td>-0.015273</td>\n",
       "      <td>-0.128394</td>\n",
       "      <td>-1.793275</td>\n",
       "      <td>0.764628</td>\n",
       "      <td>...</td>\n",
       "      <td>-0.440350</td>\n",
       "      <td>-0.884314</td>\n",
       "      <td>-0.157001</td>\n",
       "      <td>-0.797327</td>\n",
       "      <td>0.016989</td>\n",
       "      <td>1.121202</td>\n",
       "      <td>-0.180910</td>\n",
       "      <td>-0.167883</td>\n",
       "      <td>0.049452</td>\n",
       "      <td>-2.212872</td>\n",
       "    </tr>\n",
       "  </tbody>\n",
       "</table>\n",
       "<p>5 rows × 30 columns</p>\n",
       "</div>"
      ],
      "text/plain": [
       "              V1        V2        V3        V4        V5        V6        V7  \\\n",
       "ID                                                                             \n",
       "54043  -2.389003  0.508246  0.955227  0.355585 -1.346217  0.052071 -1.140844   \n",
       "100632  1.324636  0.095398 -0.105591  0.246712  0.320204  0.257465 -0.117373   \n",
       "260528 -0.083895  0.543350 -0.244593 -0.750945  0.804470 -0.429098  1.249977   \n",
       "244435  2.027800 -0.080261 -1.167567  0.210231  0.136417 -0.676231  0.137029   \n",
       "25470  -0.621263 -0.400795  1.599899 -0.959784  0.457530  0.033135 -0.015273   \n",
       "\n",
       "              V8        V9       V10    ...          V21       V22       V23  \\\n",
       "ID                                      ...                                    \n",
       "54043   1.563165 -0.141766 -1.020786    ...     0.190740  0.019433 -0.096179   \n",
       "100632  0.073556  0.265089 -0.096078    ...    -0.335731 -0.955960 -0.004008   \n",
       "260528 -0.179319 -0.058560 -0.495834    ...    -0.264119 -0.738258  0.164438   \n",
       "244435 -0.212528  0.176972  0.185304    ...    -0.255778 -0.572261  0.282490   \n",
       "25470  -0.128394 -1.793275  0.764628    ...    -0.440350 -0.884314 -0.157001   \n",
       "\n",
       "             V24       V25       V26       V27       V28       V29       V30  \n",
       "ID                                                                            \n",
       "54043   0.025572 -0.271135  0.249452 -0.487984 -0.221525  0.035281 -2.741180  \n",
       "100632 -1.334493  0.290240  0.219790 -0.000750 -0.015829  0.002406 -7.049453  \n",
       "260528 -1.005575 -0.293204  0.179689  0.218246  0.086205  0.112603 -1.469655  \n",
       "244435 -0.319414 -0.266087  0.195817 -0.061286 -0.068097  0.011066 -0.322347  \n",
       "25470  -0.797327  0.016989  1.121202 -0.180910 -0.167883  0.049452 -2.212872  \n",
       "\n",
       "[5 rows x 30 columns]"
      ]
     },
     "execution_count": 4,
     "metadata": {},
     "output_type": "execute_result"
    }
   ],
   "source": [
    "pred_df = pd.read_csv('./pred.csv', index_col='ID')\n",
    "del pred_df['V_Time']\n",
    "pred_df.head()"
   ]
  },
  {
   "cell_type": "markdown",
   "metadata": {},
   "source": [
    "# LR"
   ]
  },
  {
   "cell_type": "markdown",
   "metadata": {},
   "source": [
    "## 模型"
   ]
  },
  {
   "cell_type": "code",
   "execution_count": 5,
   "metadata": {},
   "outputs": [
    {
     "name": "stdout",
     "output_type": "stream",
     "text": [
      "运行时间： 3.40825891495\n"
     ]
    }
   ],
   "source": [
    "from sklearn import linear_model\n",
    "import time\n",
    "\n",
    "start = time.time()\n",
    "# fit到RandomForestRegressor之中\n",
    "clf = linear_model.LogisticRegression(C=1.0, penalty='l1', tol=1e-6)\n",
    "clf.fit(train_feature, train_label)\n",
    "\n",
    "print \"运行时间：\", time.time()-start"
   ]
  },
  {
   "cell_type": "markdown",
   "metadata": {},
   "source": [
    "## 评估 "
   ]
  },
  {
   "cell_type": "code",
   "execution_count": 7,
   "metadata": {},
   "outputs": [
    {
     "data": {
      "text/plain": [
       "0    99845\n",
       "1      155\n",
       "dtype: int64"
      ]
     },
     "execution_count": 7,
     "metadata": {},
     "output_type": "execute_result"
    }
   ],
   "source": [
    "from sklearn.metrics import accuracy_score\n",
    "lr_pred_label = pd.Series(clf.predict(pred_df))\n",
    "lr_pred_label.value_counts()"
   ]
  },
  {
   "cell_type": "markdown",
   "metadata": {},
   "source": [
    "#  RF"
   ]
  },
  {
   "cell_type": "code",
   "execution_count": 8,
   "metadata": {},
   "outputs": [
    {
     "name": "stdout",
     "output_type": "stream",
     "text": [
      "训练时间： 7.86861419678\n"
     ]
    }
   ],
   "source": [
    "from sklearn.ensemble import RandomForestClassifier\n",
    "import time\n",
    "\n",
    "start = time.time()\n",
    "aliRC_RFC = RandomForestClassifier()\n",
    "aliRC_RFC = aliRC_RFC.fit(train_feature, train_label)\n",
    "print \"训练时间：\", time.time()-start"
   ]
  },
  {
   "cell_type": "code",
   "execution_count": 9,
   "metadata": {},
   "outputs": [
    {
     "data": {
      "text/plain": [
       "0    99837\n",
       "1      163\n",
       "dtype: int64"
      ]
     },
     "execution_count": 9,
     "metadata": {},
     "output_type": "execute_result"
    }
   ],
   "source": [
    "rf_pred_label = pd.Series(aliRC_RFC.predict(pred_df))\n",
    "rf_pred_label.value_counts()"
   ]
  },
  {
   "cell_type": "markdown",
   "metadata": {},
   "source": [
    "# GBDT"
   ]
  },
  {
   "cell_type": "code",
   "execution_count": 10,
   "metadata": {},
   "outputs": [
    {
     "name": "stdout",
     "output_type": "stream",
     "text": [
      "训练时间： 66.1180150509\n"
     ]
    }
   ],
   "source": [
    "from sklearn.ensemble import GradientBoostingClassifier\n",
    "import time\n",
    "\n",
    "start = time.time()\n",
    "aliRC_gdbt = GradientBoostingClassifier()\n",
    "aliRC_gdbt = aliRC_gdbt.fit(train_feature, train_label)\n",
    "print \"训练时间：\", time.time()-start"
   ]
  },
  {
   "cell_type": "code",
   "execution_count": 12,
   "metadata": {},
   "outputs": [
    {
     "data": {
      "text/plain": [
       "0    99932\n",
       "1       68\n",
       "dtype: int64"
      ]
     },
     "execution_count": 12,
     "metadata": {},
     "output_type": "execute_result"
    }
   ],
   "source": [
    "gbdt_pred_label = pd.Series(aliRC_gdbt.predict(pred_df))\n",
    "gbdt_pred_label.value_counts()"
   ]
  },
  {
   "cell_type": "markdown",
   "metadata": {},
   "source": [
    "# GXBOOST"
   ]
  },
  {
   "cell_type": "code",
   "execution_count": 13,
   "metadata": {},
   "outputs": [
    {
     "name": "stdout",
     "output_type": "stream",
     "text": [
      "训练时间： 28.6355919838\n"
     ]
    }
   ],
   "source": [
    "from xgboost import XGBClassifier\n",
    "import time\n",
    "\n",
    "start = time.time()\n",
    "xgbc = XGBClassifier()\n",
    "xgbc.fit(train_feature, train_label)\n",
    "print \"训练时间：\", time.time()-start"
   ]
  },
  {
   "cell_type": "code",
   "execution_count": 17,
   "metadata": {},
   "outputs": [
    {
     "data": {
      "text/plain": [
       "0    99932\n",
       "1       68\n",
       "dtype: int64"
      ]
     },
     "execution_count": 17,
     "metadata": {},
     "output_type": "execute_result"
    }
   ],
   "source": [
    "xgbc_pred_lable = pd.Series(xgbc.predict(pred_df))\n",
    "gbdt_pred_label.value_counts()"
   ]
  },
  {
   "cell_type": "code",
   "execution_count": null,
   "metadata": {
    "collapsed": true
   },
   "outputs": [],
   "source": []
  }
 ],
 "metadata": {
  "kernelspec": {
   "display_name": "Python 2",
   "language": "python",
   "name": "python2"
  },
  "language_info": {
   "codemirror_mode": {
    "name": "ipython",
    "version": 2
   },
   "file_extension": ".py",
   "mimetype": "text/x-python",
   "name": "python",
   "nbconvert_exporter": "python",
   "pygments_lexer": "ipython2",
   "version": "2.7.13"
  },
  "toc": {
   "nav_menu": {},
   "number_sections": true,
   "sideBar": true,
   "skip_h1_title": false,
   "toc_cell": false,
   "toc_position": {},
   "toc_section_display": "block",
   "toc_window_display": true
  }
 },
 "nbformat": 4,
 "nbformat_minor": 2
}
