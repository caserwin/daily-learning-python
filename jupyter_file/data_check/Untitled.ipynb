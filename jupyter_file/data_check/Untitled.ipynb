{
 "cells": [
  {
   "cell_type": "markdown",
   "metadata": {},
   "source": [
    "# 基于python 3操作，进行数据验证"
   ]
  },
  {
   "cell_type": "code",
   "execution_count": 18,
   "metadata": {},
   "outputs": [
    {
     "name": "stdout",
     "output_type": "stream",
     "text": [
      "(19985, 4)\n",
      "['confid' 'uid_' 'gid' 'userjmt']\n",
      "(19984, 4)\n",
      "['confid' 'uid_' 'gid' 'userjmt']\n"
     ]
    }
   ],
   "source": [
    "import pandas as pd\n",
    "\n",
    "bts_jmt_df = pd.read_csv('~/data/daily_learning_python/data/bts-02-22-jmt.csv')\n",
    "bts_jmt_df.columns = ['confid','uid_','gid','userjmt']\n",
    "\n",
    "sap_jmt_df = pd.read_csv('~/data/daily_learning_python/data/sap-02-22-jmt.csv')\n",
    "sap_jmt_df.columns = ['confid','uid_','gid','userjmt']\n",
    "\n",
    "\n",
    "print(bts_jmt_df.shape)\n",
    "print(bts_jmt_df.columns.values)\n",
    "\n",
    "print(sap_jmt_df.shape)\n",
    "print(sap_jmt_df.columns.values)\n",
    "#  print df.dtypes\n",
    "#  print df.describe(include='all') \n",
    "# bts_jmt_df.head(10)"
   ]
  },
  {
   "cell_type": "code",
   "execution_count": 19,
   "metadata": {},
   "outputs": [
    {
     "name": "stdout",
     "output_type": "stream",
     "text": [
      "             confid          uid_           gid       userjmt\n",
      "count  1.998500e+04  1.998500e+04  1.998500e+04  19985.000000\n",
      "mean   8.417217e+16  2.142919e+08  1.209588e+09      1.940956\n",
      "std    1.689452e+16  2.470075e+08  1.049595e+09     17.352663\n",
      "min    5.048493e+07  0.000000e+00  0.000000e+00      0.000000\n",
      "25%    8.760739e+16  0.000000e+00  0.000000e+00      0.000000\n",
      "50%    8.764105e+16  0.000000e+00  2.120226e+09      0.000000\n",
      "75%    8.767114e+16  4.991103e+08  2.120322e+09      1.000000\n",
      "max    8.769780e+16  5.061262e+08  2.120405e+09   2088.000000\n"
     ]
    }
   ],
   "source": [
    "print(bts_jmt_df.describe(include='all'))"
   ]
  },
  {
   "cell_type": "code",
   "execution_count": 20,
   "metadata": {},
   "outputs": [
    {
     "name": "stdout",
     "output_type": "stream",
     "text": [
      "             confid          uid_           gid       userjmt\n",
      "count  1.998400e+04  1.998400e+04  1.998400e+04  19984.000000\n",
      "mean   8.417629e+16  2.143024e+08  1.209543e+09      1.836569\n",
      "std    1.688444e+16  2.470088e+08  1.049602e+09      9.129724\n",
      "min    5.048493e+07  0.000000e+00  0.000000e+00      0.000000\n",
      "25%    8.760739e+16  0.000000e+00  0.000000e+00      0.000000\n",
      "50%    8.764105e+16  0.000000e+00  2.120226e+09      0.000000\n",
      "75%    8.767114e+16  4.991104e+08  2.120322e+09      1.000000\n",
      "max    8.769780e+16  5.061262e+08  2.120405e+09    385.000000\n"
     ]
    }
   ],
   "source": [
    "print(sap_jmt_df.describe(include='all'))"
   ]
  },
  {
   "cell_type": "code",
   "execution_count": 21,
   "metadata": {},
   "outputs": [
    {
     "name": "stdout",
     "output_type": "stream",
     "text": [
      "             confid          uid_           gid       userjmt\n",
      "count  1.998400e+04  1.998400e+04  1.998400e+04  19984.000000\n",
      "mean   8.417200e+16  2.142778e+08  1.209649e+09      1.836569\n",
      "std    1.689493e+16  2.470056e+08  1.049587e+09      9.129724\n",
      "min    5.048493e+07  0.000000e+00  0.000000e+00      0.000000\n",
      "25%    8.760739e+16  0.000000e+00  0.000000e+00      0.000000\n",
      "50%    8.764105e+16  0.000000e+00  2.120226e+09      0.000000\n",
      "75%    8.767114e+16  4.991104e+08  2.120322e+09      1.000000\n",
      "max    8.769780e+16  5.061262e+08  2.120405e+09    385.000000\n"
     ]
    }
   ],
   "source": [
    "bts_flag = bts_jmt_df.userjmt<2000\n",
    "print(bts_jmt_df[bts_flag].describe(include='all'))"
   ]
  },
  {
   "cell_type": "code",
   "execution_count": 23,
   "metadata": {},
   "outputs": [
    {
     "name": "stdout",
     "output_type": "stream",
     "text": [
      "             confid          uid_           gid       userjmt\n",
      "count  1.998400e+04  1.998400e+04  1.998400e+04  19984.000000\n",
      "mean   8.417200e+16  2.142778e+08  1.209649e+09      1.836569\n",
      "std    1.689493e+16  2.470056e+08  1.049587e+09      9.129724\n",
      "min    5.048493e+07  0.000000e+00  0.000000e+00      0.000000\n",
      "25%    8.760739e+16  0.000000e+00  0.000000e+00      0.000000\n",
      "50%    8.764105e+16  0.000000e+00  2.120226e+09      0.000000\n",
      "75%    8.767114e+16  4.991104e+08  2.120322e+09      1.000000\n",
      "max    8.769780e+16  5.061262e+08  2.120405e+09    385.000000\n"
     ]
    }
   ],
   "source": [
    "bts_flag = bts_jmt_df.userjmt<2000\n",
    "print(bts_jmt_df.where(bts_flag).describe(include='all'))"
   ]
  },
  {
   "cell_type": "markdown",
   "metadata": {
    "collapsed": true
   },
   "source": [
    "# Mini Batch 2018-03-19 02:40:00 --- 2018-03-19 02:50:00"
   ]
  },
  {
   "cell_type": "code",
   "execution_count": 5,
   "metadata": {
    "collapsed": true
   },
   "outputs": [],
   "source": [
    "import pandas as pd\n",
    "\n",
    "prod_df = pd.read_csv('~/data/miniJMT/prod.csv')\n",
    "prod_df.columns = ['confid','uid_','gid','startjointime','joinedtime','userjmt']\n",
    "\n",
    "\n",
    "sap_df = pd.read_csv('~/data/miniJMT/SAP.csv')\n",
    "sap_df.columns = ['confid','uid_','gid','startjointime','joinedtime','userjmt']"
   ]
  },
  {
   "cell_type": "code",
   "execution_count": 6,
   "metadata": {},
   "outputs": [
    {
     "data": {
      "text/html": [
       "<div>\n",
       "<style>\n",
       "    .dataframe thead tr:only-child th {\n",
       "        text-align: right;\n",
       "    }\n",
       "\n",
       "    .dataframe thead th {\n",
       "        text-align: left;\n",
       "    }\n",
       "\n",
       "    .dataframe tbody tr th {\n",
       "        vertical-align: top;\n",
       "    }\n",
       "</style>\n",
       "<table border=\"1\" class=\"dataframe\">\n",
       "  <thead>\n",
       "    <tr style=\"text-align: right;\">\n",
       "      <th></th>\n",
       "      <th>confid</th>\n",
       "      <th>uid_</th>\n",
       "      <th>gid</th>\n",
       "      <th>startjointime</th>\n",
       "      <th>joinedtime</th>\n",
       "      <th>userjmt</th>\n",
       "    </tr>\n",
       "  </thead>\n",
       "  <tbody>\n",
       "    <tr>\n",
       "      <th>0</th>\n",
       "      <td>89876197477982517</td>\n",
       "      <td>529814102</td>\n",
       "      <td>0</td>\n",
       "      <td>2018-03-19 02:46:36</td>\n",
       "      <td>2018-03-19 02:46:44</td>\n",
       "      <td>8.0</td>\n",
       "    </tr>\n",
       "    <tr>\n",
       "      <th>1</th>\n",
       "      <td>88619120608685231</td>\n",
       "      <td>0</td>\n",
       "      <td>133676869</td>\n",
       "      <td>2018-03-19 02:47:55</td>\n",
       "      <td>2018-03-19 02:48:01</td>\n",
       "      <td>6.0</td>\n",
       "    </tr>\n",
       "    <tr>\n",
       "      <th>2</th>\n",
       "      <td>89251000800521590</td>\n",
       "      <td>0</td>\n",
       "      <td>133685609</td>\n",
       "      <td>2018-03-19 02:46:19</td>\n",
       "      <td>2018-03-19 02:46:26</td>\n",
       "      <td>7.0</td>\n",
       "    </tr>\n",
       "    <tr>\n",
       "      <th>3</th>\n",
       "      <td>89251000800521590</td>\n",
       "      <td>0</td>\n",
       "      <td>133676699</td>\n",
       "      <td>2018-03-19 02:42:51</td>\n",
       "      <td>2018-03-19 02:42:57</td>\n",
       "      <td>6.0</td>\n",
       "    </tr>\n",
       "    <tr>\n",
       "      <th>4</th>\n",
       "      <td>88885688507830853</td>\n",
       "      <td>509494652</td>\n",
       "      <td>0</td>\n",
       "      <td>2018-03-19 02:49:15</td>\n",
       "      <td>2018-03-19 02:49:21</td>\n",
       "      <td>6.0</td>\n",
       "    </tr>\n",
       "  </tbody>\n",
       "</table>\n",
       "</div>"
      ],
      "text/plain": [
       "              confid       uid_        gid        startjointime  \\\n",
       "0  89876197477982517  529814102          0  2018-03-19 02:46:36   \n",
       "1  88619120608685231          0  133676869  2018-03-19 02:47:55   \n",
       "2  89251000800521590          0  133685609  2018-03-19 02:46:19   \n",
       "3  89251000800521590          0  133676699  2018-03-19 02:42:51   \n",
       "4  88885688507830853  509494652          0  2018-03-19 02:49:15   \n",
       "\n",
       "            joinedtime  userjmt  \n",
       "0  2018-03-19 02:46:44      8.0  \n",
       "1  2018-03-19 02:48:01      6.0  \n",
       "2  2018-03-19 02:46:26      7.0  \n",
       "3  2018-03-19 02:42:57      6.0  \n",
       "4  2018-03-19 02:49:21      6.0  "
      ]
     },
     "execution_count": 6,
     "metadata": {},
     "output_type": "execute_result"
    }
   ],
   "source": [
    "prod_df.head()"
   ]
  },
  {
   "cell_type": "code",
   "execution_count": 7,
   "metadata": {},
   "outputs": [
    {
     "data": {
      "text/html": [
       "<div>\n",
       "<style>\n",
       "    .dataframe thead tr:only-child th {\n",
       "        text-align: right;\n",
       "    }\n",
       "\n",
       "    .dataframe thead th {\n",
       "        text-align: left;\n",
       "    }\n",
       "\n",
       "    .dataframe tbody tr th {\n",
       "        vertical-align: top;\n",
       "    }\n",
       "</style>\n",
       "<table border=\"1\" class=\"dataframe\">\n",
       "  <thead>\n",
       "    <tr style=\"text-align: right;\">\n",
       "      <th></th>\n",
       "      <th>confid</th>\n",
       "      <th>uid_</th>\n",
       "      <th>gid</th>\n",
       "      <th>startjointime</th>\n",
       "      <th>joinedtime</th>\n",
       "      <th>userjmt</th>\n",
       "    </tr>\n",
       "  </thead>\n",
       "  <tbody>\n",
       "    <tr>\n",
       "      <th>0</th>\n",
       "      <td>89882606136463832</td>\n",
       "      <td>511290062</td>\n",
       "      <td>0</td>\n",
       "      <td>2018-03-19 02:47:39</td>\n",
       "      <td>2018-03-19 02:54:00</td>\n",
       "      <td>381.0</td>\n",
       "    </tr>\n",
       "    <tr>\n",
       "      <th>1</th>\n",
       "      <td>88619120608685231</td>\n",
       "      <td>0</td>\n",
       "      <td>133676869</td>\n",
       "      <td>2018-03-19 02:47:55</td>\n",
       "      <td>2018-03-19 02:48:01</td>\n",
       "      <td>6.0</td>\n",
       "    </tr>\n",
       "    <tr>\n",
       "      <th>2</th>\n",
       "      <td>89251000800521590</td>\n",
       "      <td>0</td>\n",
       "      <td>133685609</td>\n",
       "      <td>2018-03-19 02:46:19</td>\n",
       "      <td>2018-03-19 02:46:26</td>\n",
       "      <td>7.0</td>\n",
       "    </tr>\n",
       "    <tr>\n",
       "      <th>3</th>\n",
       "      <td>89251000800521590</td>\n",
       "      <td>0</td>\n",
       "      <td>133676699</td>\n",
       "      <td>2018-03-19 02:42:51</td>\n",
       "      <td>2018-03-19 02:42:57</td>\n",
       "      <td>6.0</td>\n",
       "    </tr>\n",
       "    <tr>\n",
       "      <th>4</th>\n",
       "      <td>88885688507830853</td>\n",
       "      <td>509494652</td>\n",
       "      <td>0</td>\n",
       "      <td>2018-03-19 02:49:15</td>\n",
       "      <td>2018-03-19 02:49:21</td>\n",
       "      <td>6.0</td>\n",
       "    </tr>\n",
       "  </tbody>\n",
       "</table>\n",
       "</div>"
      ],
      "text/plain": [
       "              confid       uid_        gid        startjointime  \\\n",
       "0  89882606136463832  511290062          0  2018-03-19 02:47:39   \n",
       "1  88619120608685231          0  133676869  2018-03-19 02:47:55   \n",
       "2  89251000800521590          0  133685609  2018-03-19 02:46:19   \n",
       "3  89251000800521590          0  133676699  2018-03-19 02:42:51   \n",
       "4  88885688507830853  509494652          0  2018-03-19 02:49:15   \n",
       "\n",
       "            joinedtime  userjmt  \n",
       "0  2018-03-19 02:54:00    381.0  \n",
       "1  2018-03-19 02:48:01      6.0  \n",
       "2  2018-03-19 02:46:26      7.0  \n",
       "3  2018-03-19 02:42:57      6.0  \n",
       "4  2018-03-19 02:49:21      6.0  "
      ]
     },
     "execution_count": 7,
     "metadata": {},
     "output_type": "execute_result"
    }
   ],
   "source": [
    "sap_df.head()"
   ]
  },
  {
   "cell_type": "code",
   "execution_count": 11,
   "metadata": {},
   "outputs": [
    {
     "data": {
      "text/plain": [
       "3409"
      ]
     },
     "execution_count": 11,
     "metadata": {},
     "output_type": "execute_result"
    }
   ],
   "source": [
    "len(prod_df)"
   ]
  },
  {
   "cell_type": "code",
   "execution_count": 12,
   "metadata": {},
   "outputs": [
    {
     "data": {
      "text/plain": [
       "3574"
      ]
     },
     "execution_count": 12,
     "metadata": {},
     "output_type": "execute_result"
    }
   ],
   "source": [
    "len(sap_df)"
   ]
  },
  {
   "cell_type": "code",
   "execution_count": 13,
   "metadata": {},
   "outputs": [
    {
     "data": {
      "text/plain": [
       "3393"
      ]
     },
     "execution_count": 13,
     "metadata": {},
     "output_type": "execute_result"
    }
   ],
   "source": [
    "len(prod_df.merge(sap_df, how='inner', on=['confid','uid_','gid']))"
   ]
  },
  {
   "cell_type": "code",
   "execution_count": 27,
   "metadata": {},
   "outputs": [
    {
     "name": "stdout",
     "output_type": "stream",
     "text": [
      "出现在prod中，但是没出现在sap中的user: 16\n",
      "\n",
      "(89814084098200374, 0, 416608347)\n",
      "(89881957883718975, 527041997, 0)\n",
      "(89881962784762543, 539784632, 0)\n",
      "(89250106330625869, 493516642, 0)\n",
      "(2656047508, 0, 1315843369)\n",
      "(2610877832, 13194427, 0)\n",
      "(88613296954938143, 529944812, 0)\n",
      "(86918791533957312, 528596917, 0)\n",
      "(89630696867366889, 0, 2086790314)\n",
      "(89878462289947462, 527853327, 0)\n",
      "(89611623432462581, 0, 1016407597)\n",
      "(89879843617902539, 0, 1072870120)\n",
      "(89877532266992299, 529662617, 0)\n",
      "(89873455735902534, 526943642, 0)\n",
      "(2858861008, 532737967, 0)\n",
      "(89673681053158956, 526890962, 0)\n"
     ]
    }
   ],
   "source": [
    "ds1 = set([ tuple(line) for line in prod_df[['confid','uid_','gid']].values.tolist()])\n",
    "ds2 = set([ tuple(line) for line in sap_df[['confid','uid_','gid']].values.tolist()])\n",
    "\n",
    "print('出现在prod中，但是没出现在sap中的user:', len(ds1.difference(ds2)))\n",
    "print()\n",
    "for d in ds1.difference(ds2):\n",
    "    print(d)"
   ]
  },
  {
   "cell_type": "code",
   "execution_count": 29,
   "metadata": {},
   "outputs": [
    {
     "name": "stdout",
     "output_type": "stream",
     "text": [
      "出现在sap中，但是没出现在prod中的user: 181\n",
      "\n",
      "(2656122918, 508459792, 0)\n",
      "(89515180568887256, 0, 1899626746)\n",
      "(89257996987712966, 0, 1594269861)\n",
      "(89882252841849074, 530050652, 0)\n",
      "(89882031770571696, 527644347, 0)\n",
      "(89882699549931907, 479865753, 0)\n",
      "(89640783869678444, 0, 1315849829)\n",
      "(2610878242, 7764952, 0)\n",
      "(89880097912259925, 522026232, 0)\n",
      "(83954833882653214, 486499638, 0)\n",
      "(2610878189, 0, 351864897)\n",
      "(89406822550605901, 0, 416681157)\n",
      "(89532637200257092, 0, 416678682)\n",
      "(89363568750764612, 0, 1016408207)\n",
      "(89621697650542300, 0, 1594246936)\n",
      "(89882713671078584, 0, 416683687)\n",
      "(76804352407286608, 0, 1553425557)\n",
      "(89879345813785591, 510560942, 0)\n",
      "(89709819991165250, 529119782, 0)\n",
      "(3786259798, 8871682, 0)\n",
      "(89880347543648079, 0, 2025176387)\n",
      "(89253567658992900, 0, 777729787)\n",
      "(89796806151505890, 0, 2086785669)\n",
      "(89631318848046774, 0, 2086791044)\n",
      "(88617672165560494, 492034567, 0)\n",
      "(89835631544400054, 0, 700151291)\n",
      "(89631371589323158, 0, 550145536)\n",
      "(89531367596011661, 485946412, 0)\n",
      "(89880761545524770, 0, 2086791139)\n",
      "(89325714631861247, 0, 1600910412)\n",
      "(89620929166971297, 0, 416683667)\n",
      "(89873139428757566, 0, 416683407)\n",
      "(89615477438989759, 0, 1594269546)\n",
      "(89881793079028728, 0, 544038076)\n",
      "(89430160760161616, 513897532, 0)\n",
      "(89882841194729616, 519630282, 0)\n",
      "(89253122298357871, 0, 544052236)\n",
      "(87973981453332846, 0, 1553392087)\n",
      "(89628209015950017, 0, 550145521)\n",
      "(89428659513889166, 527307422, 0)\n",
      "(88805541570166733, 512552867, 0)\n",
      "(89882397254923394, 495175727, 0)\n",
      "(89882714523612139, 0, 1553432207)\n",
      "(89847806259368421, 0, 416497592)\n",
      "(89881471112712354, 523955542, 0)\n",
      "(89356116651184752, 0, 1315847634)\n",
      "(89882679991864302, 527622012, 0)\n",
      "(89410562648183399, 0, 416681602)\n",
      "(88177869042226047, 0, 416683097)\n",
      "(87533504898798104, 0, 416674747)\n",
      "(89882838118175618, 530063787, 0)\n",
      "(2667102320, 0, 777727052)\n",
      "(89882550796843290, 0, 700151141)\n",
      "(2610878237, 3818422, 0)\n",
      "(89615735869940210, 0, 1016401842)\n",
      "(89444674503230764, 0, 1594269916)\n",
      "(89265019802364024, 539994792, 0)\n",
      "(2656045962, 0, 1315849419)\n",
      "(89841578440395530, 0, 550145241)\n",
      "(2656123000, 0, 1315849559)\n",
      "(89881652654777174, 529512042, 0)\n",
      "(89881743622935130, 519950092, 0)\n",
      "(89628971798368906, 0, 416678672)\n",
      "(2610754603, 8817892, 0)\n",
      "(89641225385159490, 0, 544038481)\n",
      "(89579922288288188, 0, 1016402017)\n",
      "(89859242248373464, 0, 2086785479)\n",
      "(2610878216, 11576247, 0)\n",
      "(89534458698410419, 539860532, 0)\n",
      "(89876213006339624, 509319397, 0)\n",
      "(89622292918702229, 0, 416680127)\n",
      "(3786259848, 8827992, 0)\n",
      "(89859242248373464, 0, 2086783859)\n",
      "(89369466880660032, 511574202, 0)\n",
      "(89663687588090247, 0, 1315848554)\n",
      "(89441019889717380, 146033, 0)\n",
      "(89440420392609586, 516442047, 0)\n",
      "(89816584558770888, 540317727, 0)\n",
      "(89702515274157465, 527256542, 0)\n",
      "(89369466880660032, 0, 416625197)\n",
      "(89879653231141801, 540059697, 0)\n",
      "(89456418245101543, 0, 1594261636)\n",
      "(88989293070002608, 510933722, 0)\n",
      "(89840294273528134, 0, 1553425567)\n",
      "(89642606437339507, 519922982, 0)\n",
      "(87979451637305495, 512617592, 0)\n",
      "(89636524310663476, 530050792, 0)\n",
      "(89252689017344649, 526869182, 0)\n",
      "(89623490918887382, 0, 133691149)\n",
      "(88753672976114067, 0, 1600893467)\n",
      "(89489633888447170, 0, 544043871)\n",
      "(89876145966682442, 507225532, 0)\n",
      "(89258301085189749, 522770342, 0)\n",
      "(89410562648183399, 0, 416683307)\n",
      "(89801836337315357, 0, 1899635186)\n",
      "(89630654655939784, 0, 1594251081)\n",
      "(89716349567269664, 0, 700141491)\n",
      "(89422223277825385, 541535332, 0)\n",
      "(89882606136463832, 511290062, 0)\n",
      "(89255503565164403, 536544107, 0)\n",
      "(89833993868939282, 527558452, 0)\n",
      "(89881326113553244, 540323747, 0)\n",
      "(89879498415150018, 0, 416680392)\n",
      "(89882606136463832, 0, 416683697)\n",
      "(89406822550605901, 0, 416681197)\n",
      "(2610754603, 0, 351864857)\n",
      "(89532659325257100, 0, 1594261776)\n",
      "(89632642954197188, 0, 700142001)\n",
      "(88790728147247138, 0, 1600899347)\n",
      "(89880400358328315, 0, 1594261266)\n",
      "(89443663283799727, 0, 1594269691)\n",
      "(89254065280678435, 0, 700151106)\n",
      "(89536850647093783, 0, 1315849669)\n",
      "(89882204453249155, 0, 1600893497)\n",
      "(89876044620790657, 0, 700151261)\n",
      "(89880819932334503, 0, 550146326)\n",
      "(89748227706851365, 0, 416681712)\n",
      "(89881793079028728, 0, 544037826)\n",
      "(88846864780104215, 0, 416683672)\n",
      "(89878934844379741, 507087842, 0)\n",
      "(89882402976959695, 0, 1072878540)\n",
      "(89406822550605901, 0, 416680897)\n",
      "(88092170521724591, 519293317, 0)\n",
      "(89882727211344965, 0, 777723067)\n",
      "(3786259849, 8871712, 0)\n",
      "(87533504898798104, 0, 416681777)\n",
      "(89868729377132737, 0, 1315849124)\n",
      "(89251675156528167, 0, 1899635091)\n",
      "(89651664560066802, 0, 416683707)\n",
      "(89444434288053317, 0, 1072872130)\n",
      "(88343005559269587, 539421712, 0)\n",
      "(89878788035317940, 520029247, 0)\n",
      "(89802624310709503, 536039132, 0)\n",
      "(89881591741944182, 0, 416683367)\n",
      "(2656071373, 0, 1315849454)\n",
      "(89483139563399853, 0, 544023886)\n",
      "(89003565052341773, 0, 133691129)\n",
      "(89642275239366908, 0, 416683432)\n",
      "(89870768359351289, 0, 1016372467)\n",
      "(87988359960466347, 0, 416681447)\n",
      "(3786255952, 8826607, 0)\n",
      "(89880761545524770, 527338827, 0)\n",
      "(89877044835435997, 514140147, 0)\n",
      "(89665159709076221, 0, 544044121)\n",
      "(89349375497603508, 0, 550146061)\n",
      "(89456418245101543, 0, 1594261501)\n",
      "(89546988198080560, 486750248, 0)\n",
      "(89881998010644558, 0, 700141756)\n",
      "(89639568345698399, 0, 1315849439)\n",
      "(3786259593, 0, 141213707)\n",
      "(89837496908695446, 517664757, 0)\n",
      "(89880490712024186, 0, 1594246911)\n",
      "(89431493627089687, 189818, 0)\n",
      "(89612847708934732, 0, 1315849429)\n",
      "(89882058479896399, 0, 2086785419)\n",
      "(89872893884768151, 532301427, 0)\n",
      "(89882217749163253, 0, 133676589)\n",
      "(89450555260280066, 0, 579644289)\n",
      "(89830246197497977, 0, 416683242)\n",
      "(89871699172919805, 0, 550145731)\n",
      "(89879638036189414, 511371462, 0)\n",
      "(89251880936410348, 0, 1072872315)\n",
      "(89532325304499027, 532917582, 0)\n",
      "(89881808683967468, 0, 1600900702)\n",
      "(89692056173191797, 517560332, 0)\n",
      "(89252544264581334, 484368297, 0)\n",
      "(89616313864977099, 540000177, 0)\n",
      "(89657098357445004, 525669027, 0)\n",
      "(89882132227330927, 0, 1315847729)\n",
      "(88617409193218826, 527578747, 0)\n",
      "(89659565866488566, 0, 416576787)\n",
      "(89882710105926059, 539574297, 0)\n",
      "(85649597943301912, 0, 1594261421)\n",
      "(88177869042226047, 525966612, 0)\n",
      "(88239100798184169, 0, 544052206)\n",
      "(89871726460018910, 521765743, 0)\n",
      "(87533504898798104, 0, 416680592)\n",
      "(89613605782163955, 530031202, 0)\n",
      "(89826446041681361, 0, 1072878365)\n",
      "(89456418245101543, 0, 1594270011)\n",
      "(89440420392609586, 502523877, 0)\n"
     ]
    }
   ],
   "source": [
    "ds1 = set([ tuple(line) for line in prod_df[['confid','uid_','gid']].values.tolist()])\n",
    "ds2 = set([ tuple(line) for line in sap_df[['confid','uid_','gid']].values.tolist()])\n",
    "\n",
    "print('出现在sap中，但是没出现在prod中的user:', len(ds2.difference(ds1)))\n",
    "print()\n",
    "for d in ds2.difference(ds1):\n",
    "    print(d)"
   ]
  },
  {
   "cell_type": "markdown",
   "metadata": {},
   "source": [
    "# BTS Mini Batch 2018-03-26 15:30:00 --- 2018-03-26 15:40:00"
   ]
  },
  {
   "cell_type": "code",
   "execution_count": 22,
   "metadata": {
    "collapsed": true
   },
   "outputs": [],
   "source": [
    "import pandas as pd\n",
    "\n",
    "bts_df = pd.read_csv('~/data/miniJMT/bts_03-26-15-30.csv',header=None)\n",
    "bts_df.columns = ['confid','uid_','gid','startjointime','joinedtime','userjmt']\n",
    "\n",
    "\n",
    "sap_df = pd.read_csv('~/data/miniJMT/bts_2018-03-26-15-30_sap.csv',header=None)\n",
    "sap_df.columns = ['confid','uid_','gid','startjointime','joinedtime','userjmt']"
   ]
  },
  {
   "cell_type": "code",
   "execution_count": 23,
   "metadata": {},
   "outputs": [
    {
     "name": "stdout",
     "output_type": "stream",
     "text": [
      "bts的user数量： 294\n",
      "sap的user数量： 294\n",
      "两者交集的user数量： 291\n"
     ]
    }
   ],
   "source": [
    "print(\"bts的user数量：\",len(bts_df))\n",
    "print(\"sap的user数量：\",len(sap_df))\n",
    "\n",
    "print(\"两者交集的user数量：\",len(bts_df.merge(sap_df, how='inner', on=['confid','uid_','gid'])))"
   ]
  },
  {
   "cell_type": "code",
   "execution_count": 24,
   "metadata": {
    "scrolled": true
   },
   "outputs": [
    {
     "name": "stdout",
     "output_type": "stream",
     "text": [
      "出现在bts中，但是没出现在sap中的user: 3\n",
      "(90561527930730719, 0, 2125861877)\n",
      "(90314086325205271, 498888197, 0)\n",
      "(90312829059513320, 492739967, 0)\n"
     ]
    }
   ],
   "source": [
    "ds1 = set([ tuple(line) for line in bts_df[['confid','uid_','gid']].values.tolist()])\n",
    "ds2 = set([ tuple(line) for line in sap_df[['confid','uid_','gid']].values.tolist()])\n",
    "\n",
    "print('出现在bts中，但是没出现在sap中的user:', len(ds1.difference(ds2)))\n",
    "for d in ds1.difference(ds2):\n",
    "    print(d)"
   ]
  },
  {
   "cell_type": "code",
   "execution_count": 25,
   "metadata": {},
   "outputs": [
    {
     "name": "stdout",
     "output_type": "stream",
     "text": [
      "出现在sap中，但是没出现在bts中的user: 3\n",
      "(87983187798571830, 496938022, 0)\n",
      "(90310742022076844, 490897627, 0)\n",
      "(90298698148395352, 505625532, 0)\n"
     ]
    }
   ],
   "source": [
    "ds1 = set([ tuple(line) for line in bts_df[['confid','uid_','gid']].values.tolist()])\n",
    "ds2 = set([ tuple(line) for line in sap_df[['confid','uid_','gid']].values.tolist()])\n",
    "\n",
    "print('出现在sap中，但是没出现在bts中的user:', len(ds2.difference(ds1)))\n",
    "\n",
    "for d in ds2.difference(ds1):\n",
    "    print(d)"
   ]
  },
  {
   "cell_type": "markdown",
   "metadata": {
    "collapsed": true
   },
   "source": [
    "# PROD Mini Batch 2018-03-26 15:30:00 --- 2018-03-26 15:40:00"
   ]
  },
  {
   "cell_type": "code",
   "execution_count": 26,
   "metadata": {
    "collapsed": true
   },
   "outputs": [],
   "source": [
    "import pandas as pd\n",
    "\n",
    "prod_df = pd.read_csv('~/data/miniJMT/prod_2016-03-26-15-30.csv', header=None)\n",
    "prod_df.columns = ['confid','uid_','gid','startjointime','joinedtime','userjmt']\n",
    "\n",
    "\n",
    "sap_df = pd.read_csv('~/data/miniJMT/prod_2018-03-26-15-30_sap.csv', header=None)\n",
    "sap_df.columns = ['confid','uid_','gid','startjointime','joinedtime','userjmt']"
   ]
  },
  {
   "cell_type": "code",
   "execution_count": 27,
   "metadata": {},
   "outputs": [
    {
     "name": "stdout",
     "output_type": "stream",
     "text": [
      "prod的user数量： 104545\n",
      "sap的user数量： 90183\n",
      "两者交集的user数量： 88746\n"
     ]
    }
   ],
   "source": [
    "print(\"prod的user数量：\",len(prod_df))\n",
    "print(\"sap的user数量：\",len(sap_df))\n",
    "\n",
    "print(\"两者交集的user数量：\",len(prod_df.merge(sap_df, how='inner', on=['confid','uid_','gid'])))"
   ]
  },
  {
   "cell_type": "code",
   "execution_count": 29,
   "metadata": {},
   "outputs": [
    {
     "name": "stdout",
     "output_type": "stream",
     "text": [
      "出现在prod中，但是没出现在sap中的user: 15799\n"
     ]
    }
   ],
   "source": [
    "ds1 = set([ tuple(line) for line in prod_df[['confid','uid_','gid']].values.tolist()])\n",
    "ds2 = set([ tuple(line) for line in sap_df[['confid','uid_','gid']].values.tolist()])\n",
    "\n",
    "print('出现在prod中，但是没出现在sap中的user:', len(ds1.difference(ds2)))"
   ]
  },
  {
   "cell_type": "code",
   "execution_count": 31,
   "metadata": {},
   "outputs": [
    {
     "name": "stdout",
     "output_type": "stream",
     "text": [
      "出现在sap中，但是没出现在prod中的user: 1437\n"
     ]
    }
   ],
   "source": [
    "ds1 = set([ tuple(line) for line in prod_df[['confid','uid_','gid']].values.tolist()])\n",
    "ds2 = set([ tuple(line) for line in sap_df[['confid','uid_','gid']].values.tolist()])\n",
    "\n",
    "print('出现在sap中，但是没出现在prod中的user:', len(ds2.difference(ds1)))"
   ]
  },
  {
   "cell_type": "code",
   "execution_count": null,
   "metadata": {
    "collapsed": true
   },
   "outputs": [],
   "source": []
  }
 ],
 "metadata": {
  "kernelspec": {
   "display_name": "Python 3",
   "language": "python",
   "name": "python3"
  },
  "language_info": {
   "codemirror_mode": {
    "name": "ipython",
    "version": 3
   },
   "file_extension": ".py",
   "mimetype": "text/x-python",
   "name": "python",
   "nbconvert_exporter": "python",
   "pygments_lexer": "ipython3",
   "version": "3.6.3"
  }
 },
 "nbformat": 4,
 "nbformat_minor": 2
}
